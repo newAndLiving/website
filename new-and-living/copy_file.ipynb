{
 "cells": [
  {
   "cell_type": "code",
   "execution_count": 2,
   "metadata": {},
   "outputs": [
    {
     "data": {
      "text/plain": [
       "'C:\\\\Users\\\\rotim\\\\OneDrive\\\\ThisNewAndLivingWayWorking\\\\NewAndLivingWeb\\\\new-and-living\\\\content\\\\english\\\\post\\\\podcasts'"
      ]
     },
     "execution_count": 2,
     "metadata": {},
     "output_type": "execute_result"
    }
   ],
   "source": [
    "import shutil\n",
    "import os\n",
    "\n",
    "\n",
    "input_dir = input('Please enter directory that contains that tax files.\\n')\n",
    "output_dir = input(\n",
    "    '\\nPlease enter the path where you want to save the files.\\n')\n",
    "\n",
    "\n",
    "for file in os.listdir(input_dir):\n",
    "    if \" /podcasts/\" in file.lower():\n",
    "\n",
    "        if not os.path.exists(output_dir):\n",
    "            os.makedirs(output_dir)\n",
    "\n",
    "        shutil.copy2(os.path.join(input_dir, file),\n",
    "                     os.path.join(output_dir, file))\n",
    "\n",
    "# format() or f strings are ideal but not sure which python version you have\n",
    "input('\\nFinished --> Files are saved to %s' % output_dir)\n"
   ]
  }
 ],
 "metadata": {
  "interpreter": {
   "hash": "e37eaa716968d82799948c45c415d7ce700be8338dc06957b51a19380bfac653"
  },
  "kernelspec": {
   "display_name": "Python 3.7.6 ('base')",
   "language": "python",
   "name": "python3"
  },
  "language_info": {
   "codemirror_mode": {
    "name": "ipython",
    "version": 3
   },
   "file_extension": ".py",
   "mimetype": "text/x-python",
   "name": "python",
   "nbconvert_exporter": "python",
   "pygments_lexer": "ipython3",
   "version": "3.7.6"
  },
  "orig_nbformat": 4
 },
 "nbformat": 4,
 "nbformat_minor": 2
}
